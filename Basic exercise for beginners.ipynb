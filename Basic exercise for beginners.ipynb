{
 "cells": [
  {
   "cell_type": "markdown",
   "id": "dd962921",
   "metadata": {},
   "source": [
    "# MCQ"
   ]
  },
  {
   "cell_type": "markdown",
   "id": "b3708952",
   "metadata": {},
   "source": [
    " 1. What is the output of the following code?\n",
    " 6\n",
    " 33\n",
    " 123\n",
    " Error. Mixing operators between numbers and strings are not supported"
   ]
  },
  {
   "cell_type": "code",
   "execution_count": 2,
   "id": "b3ef1127",
   "metadata": {},
   "outputs": [
    {
     "ename": "TypeError",
     "evalue": "unsupported operand type(s) for +: 'int' and 'str'",
     "output_type": "error",
     "traceback": [
      "\u001b[1;31m---------------------------------------------------------------------------\u001b[0m",
      "\u001b[1;31mTypeError\u001b[0m                                 Traceback (most recent call last)",
      "Cell \u001b[1;32mIn[2], line 5\u001b[0m\n\u001b[0;32m      2\u001b[0m var2 \u001b[38;5;241m=\u001b[39m \u001b[38;5;241m2\u001b[39m\n\u001b[0;32m      3\u001b[0m var3 \u001b[38;5;241m=\u001b[39m \u001b[38;5;124m\"\u001b[39m\u001b[38;5;124m3\u001b[39m\u001b[38;5;124m\"\u001b[39m\n\u001b[1;32m----> 5\u001b[0m \u001b[38;5;28mprint\u001b[39m(var1 \u001b[38;5;241m+\u001b[39m var2 \u001b[38;5;241m+\u001b[39m var3)\n",
      "\u001b[1;31mTypeError\u001b[0m: unsupported operand type(s) for +: 'int' and 'str'"
     ]
    }
   ],
   "source": [
    "var1 = 1\n",
    "var2 = 2\n",
    "var3 = \"3\"\n",
    "\n",
    "print(var1 + var2 + var3)"
   ]
  },
  {
   "cell_type": "markdown",
   "id": "6dbc7c84",
   "metadata": {},
   "source": [
    "Ans:Error. Mixing operators between numbers and strings are not supported"
   ]
  },
  {
   "cell_type": "markdown",
   "id": "4625adaa",
   "metadata": {},
   "source": [
    "------------"
   ]
  },
  {
   "cell_type": "markdown",
   "id": "b11141b7",
   "metadata": {},
   "source": [
    "2. What is the output of the following code"
   ]
  },
  {
   "cell_type": "code",
   "execution_count": 3,
   "id": "1bb6577c",
   "metadata": {},
   "outputs": [
    {
     "name": "stdout",
     "output_type": "stream",
     "text": [
      "Salary: 12000\n",
      "Salary: 8000\n"
     ]
    }
   ],
   "source": [
    "salary = 8000\n",
    "\n",
    "def printSalary():\n",
    "  salary = 12000\n",
    "  print(\"Salary:\", salary)\n",
    "  \n",
    "printSalary()\n",
    "print(\"Salary:\", salary)"
   ]
  },
  {
   "cell_type": "markdown",
   "id": "4221c9a4",
   "metadata": {},
   "source": [
    "------------"
   ]
  },
  {
   "cell_type": "markdown",
   "id": "80e14de8",
   "metadata": {},
   "source": [
    "3. What is the output of the following code?"
   ]
  },
  {
   "cell_type": "code",
   "execution_count": 4,
   "id": "f60fa9d8",
   "metadata": {},
   "outputs": [
    {
     "name": "stdout",
     "output_type": "stream",
     "text": [
      "maJ\n"
     ]
    }
   ],
   "source": [
    "var= \"James Bond\"\n",
    "print(var[2::-1])"
   ]
  },
  {
   "cell_type": "markdown",
   "id": "06919665",
   "metadata": {},
   "source": [
    "------------"
   ]
  },
  {
   "cell_type": "markdown",
   "id": "eac9f7de",
   "metadata": {},
   "source": [
    "4. What is the Output of the following code?"
   ]
  },
  {
   "cell_type": "code",
   "execution_count": 5,
   "id": "c76f1280",
   "metadata": {},
   "outputs": [
    {
     "ename": "TypeError",
     "evalue": "'float' object cannot be interpreted as an integer",
     "output_type": "error",
     "traceback": [
      "\u001b[1;31m---------------------------------------------------------------------------\u001b[0m",
      "\u001b[1;31mTypeError\u001b[0m                                 Traceback (most recent call last)",
      "Cell \u001b[1;32mIn[5], line 1\u001b[0m\n\u001b[1;32m----> 1\u001b[0m \u001b[38;5;28;01mfor\u001b[39;00m x \u001b[38;5;129;01min\u001b[39;00m \u001b[38;5;28mrange\u001b[39m(\u001b[38;5;241m0.5\u001b[39m, \u001b[38;5;241m5.5\u001b[39m, \u001b[38;5;241m0.5\u001b[39m):\n\u001b[0;32m      2\u001b[0m   \u001b[38;5;28mprint\u001b[39m(x)\n",
      "\u001b[1;31mTypeError\u001b[0m: 'float' object cannot be interpreted as an integer"
     ]
    }
   ],
   "source": [
    "for x in range(0.5, 5.5, 0.5):\n",
    "  print(x)"
   ]
  },
  {
   "cell_type": "markdown",
   "id": "dd438bf9",
   "metadata": {},
   "source": [
    "- [0.5, 1, 1.5, 2, 2.5, 3, 3.5, 4, 4.5, 5, 5.5]\n",
    "- [0.5, 1, 1.5, 2, 2.5, 3, 3.5, 4, 4.5, 5]\n",
    "- The Program executed with errors"
   ]
  },
  {
   "cell_type": "markdown",
   "id": "3e2c7a9d",
   "metadata": {},
   "source": [
    "Ans : The Program executed with errors"
   ]
  },
  {
   "cell_type": "code",
   "execution_count": 13,
   "id": "ee0eee9b",
   "metadata": {},
   "outputs": [
    {
     "name": "stdout",
     "output_type": "stream",
     "text": [
      "1\n",
      "2\n",
      "3\n",
      "4\n"
     ]
    }
   ],
   "source": [
    "for x in range(1, 5, 1):\n",
    "  print(x)"
   ]
  },
  {
   "cell_type": "markdown",
   "id": "ce5bbb32",
   "metadata": {},
   "source": [
    "------------"
   ]
  },
  {
   "cell_type": "markdown",
   "id": "2b30ce49",
   "metadata": {},
   "source": [
    "5.What is the Output of the following code?"
   ]
  },
  {
   "cell_type": "code",
   "execution_count": 8,
   "id": "d71fa4ae",
   "metadata": {},
   "outputs": [
    {
     "name": "stdout",
     "output_type": "stream",
     "text": [
      "10 20 30\n"
     ]
    }
   ],
   "source": [
    "p, q, r = 10, 20 ,30\n",
    "print(p, q, r)"
   ]
  },
  {
   "cell_type": "markdown",
   "id": "a6327701",
   "metadata": {},
   "source": [
    "------------"
   ]
  },
  {
   "cell_type": "markdown",
   "id": "b93ac4db",
   "metadata": {},
   "source": [
    "6. What is the output of the following"
   ]
  },
  {
   "cell_type": "code",
   "execution_count": 9,
   "id": "a10d6fbb",
   "metadata": {},
   "outputs": [
    {
     "name": "stdout",
     "output_type": "stream",
     "text": [
      "182.0\n"
     ]
    }
   ],
   "source": [
    "x = 36 / 4 * (3 +  2) * 4 + 2\n",
    "print(x)"
   ]
  },
  {
   "cell_type": "markdown",
   "id": "73dbc835",
   "metadata": {},
   "source": [
    "------------"
   ]
  },
  {
   "cell_type": "markdown",
   "id": "a361f413",
   "metadata": {},
   "source": [
    "7. What is the output of the following code?"
   ]
  },
  {
   "cell_type": "code",
   "execution_count": 10,
   "id": "b2ed9618",
   "metadata": {},
   "outputs": [
    {
     "name": "stdout",
     "output_type": "stream",
     "text": [
      "25\n",
      "125\n"
     ]
    }
   ],
   "source": [
    "valueOne = 5 ** 2\n",
    "valueTwo = 5 ** 3\n",
    "\n",
    "print(valueOne)\n",
    "print(valueTwo)"
   ]
  },
  {
   "cell_type": "markdown",
   "id": "f78fd0de",
   "metadata": {},
   "source": [
    "------------"
   ]
  },
  {
   "cell_type": "markdown",
   "id": "4d0a0955",
   "metadata": {},
   "source": [
    "8. Can we use the “else” block for for loop?\n",
    "\n",
    "for example:"
   ]
  },
  {
   "cell_type": "code",
   "execution_count": 11,
   "id": "0e840596",
   "metadata": {},
   "outputs": [
    {
     "name": "stdout",
     "output_type": "stream",
     "text": [
      "1\n",
      "2\n",
      "3\n",
      "4\n",
      "this is else block statement\n"
     ]
    }
   ],
   "source": [
    "for i in range(1, 5):\n",
    "    print(i)\n",
    "else:\n",
    "    print(\"this is else block statement\" )\n",
    "    "
   ]
  },
  {
   "cell_type": "markdown",
   "id": "3ecab8db",
   "metadata": {},
   "source": [
    "Ans: yes"
   ]
  },
  {
   "cell_type": "markdown",
   "id": "a1154e3e",
   "metadata": {},
   "source": [
    "------------"
   ]
  },
  {
   "cell_type": "markdown",
   "id": "21994c3a",
   "metadata": {},
   "source": [
    "9. What is the output of the following code?\n",
    "- 20\n",
    "- The program executed with errors\n",
    "- 30"
   ]
  },
  {
   "cell_type": "code",
   "execution_count": 14,
   "id": "939f5c67",
   "metadata": {},
   "outputs": [
    {
     "name": "stdout",
     "output_type": "stream",
     "text": [
      "30\n"
     ]
    }
   ],
   "source": [
    "def calculate (num1, num2=4):\n",
    "  res = num1 * num2\n",
    "  print(res)\n",
    "\n",
    "calculate(5, 6)"
   ]
  },
  {
   "cell_type": "markdown",
   "id": "0f5f1276",
   "metadata": {},
   "source": [
    "------------"
   ]
  },
  {
   "cell_type": "markdown",
   "id": "3c505809",
   "metadata": {},
   "source": [
    "10. What is the output of the following code?"
   ]
  },
  {
   "cell_type": "code",
   "execution_count": 15,
   "id": "a55793d8",
   "metadata": {},
   "outputs": [
    {
     "name": "stdout",
     "output_type": "stream",
     "text": [
      "JamesJamesJamesJamesJamesJames\n"
     ]
    }
   ],
   "source": [
    "var = \"James\" * 2  * 3\n",
    "print(var)"
   ]
  },
  {
   "cell_type": "markdown",
   "id": "183512ae",
   "metadata": {},
   "source": [
    "-------------"
   ]
  },
  {
   "cell_type": "markdown",
   "id": "72794764",
   "metadata": {},
   "source": [
    "11. A string is immutable in Python?\n",
    "\n",
    "Every time when we modify the string, Python Always create a new String and assign a new string to that variable."
   ]
  },
  {
   "cell_type": "markdown",
   "id": "577e05ee",
   "metadata": {},
   "source": [
    "Ans: True"
   ]
  },
  {
   "cell_type": "markdown",
   "id": "d0813ab7",
   "metadata": {},
   "source": [
    "------------------------"
   ]
  },
  {
   "cell_type": "markdown",
   "id": "ed056fe4",
   "metadata": {},
   "source": [
    "12. The in operator is used to check if a value exists within an iterable object container such as a list. Evaluate to True if it finds a variable in the specified sequence and False otherwise."
   ]
  },
  {
   "cell_type": "markdown",
   "id": "72cf4816",
   "metadata": {},
   "source": [
    "Ans:True"
   ]
  },
  {
   "cell_type": "markdown",
   "id": "065deddc",
   "metadata": {},
   "source": [
    "------------"
   ]
  },
  {
   "cell_type": "markdown",
   "id": "2b6d3a8b",
   "metadata": {},
   "source": [
    "13. What is the output of the following code?"
   ]
  },
  {
   "cell_type": "code",
   "execution_count": 17,
   "id": "e2258a6b",
   "metadata": {},
   "outputs": [
    {
     "name": "stdout",
     "output_type": "stream",
     "text": [
      "10, 11, 12, 13, 14, "
     ]
    }
   ],
   "source": [
    "for i in range(10, 15, 1):\n",
    "  print( i, end=', ')"
   ]
  },
  {
   "cell_type": "markdown",
   "id": "ff94aca2",
   "metadata": {},
   "source": [
    "------------"
   ]
  },
  {
   "cell_type": "markdown",
   "id": "145e154d",
   "metadata": {},
   "source": [
    "14. What is the output of the following code?\n",
    "- {‘Vicki’, ‘Jodi’, ‘Garry’, ‘Eric’}\n",
    "- {‘Jodi’, ‘Vicki’, ‘Garry’, ‘Eric’}\n",
    "- The program executed with error"
   ]
  },
  {
   "cell_type": "code",
   "execution_count": 18,
   "id": "d375cc0e",
   "metadata": {},
   "outputs": [
    {
     "ename": "TypeError",
     "evalue": "set.add() takes exactly one argument (2 given)",
     "output_type": "error",
     "traceback": [
      "\u001b[1;31m---------------------------------------------------------------------------\u001b[0m",
      "\u001b[1;31mTypeError\u001b[0m                                 Traceback (most recent call last)",
      "Cell \u001b[1;32mIn[18], line 2\u001b[0m\n\u001b[0;32m      1\u001b[0m sampleSet \u001b[38;5;241m=\u001b[39m {\u001b[38;5;124m\"\u001b[39m\u001b[38;5;124mJodi\u001b[39m\u001b[38;5;124m\"\u001b[39m, \u001b[38;5;124m\"\u001b[39m\u001b[38;5;124mEric\u001b[39m\u001b[38;5;124m\"\u001b[39m, \u001b[38;5;124m\"\u001b[39m\u001b[38;5;124mGarry\u001b[39m\u001b[38;5;124m\"\u001b[39m}\n\u001b[1;32m----> 2\u001b[0m sampleSet\u001b[38;5;241m.\u001b[39madd(\u001b[38;5;241m1\u001b[39m, \u001b[38;5;124m\"\u001b[39m\u001b[38;5;124mVicki\u001b[39m\u001b[38;5;124m\"\u001b[39m)\n\u001b[0;32m      3\u001b[0m \u001b[38;5;28mprint\u001b[39m(sampleSet)\n",
      "\u001b[1;31mTypeError\u001b[0m: set.add() takes exactly one argument (2 given)"
     ]
    }
   ],
   "source": [
    "sampleSet = {\"Jodi\", \"Eric\", \"Garry\"}\n",
    "sampleSet.add(1, \"Vicki\")\n",
    "print(sampleSet)"
   ]
  },
  {
   "cell_type": "markdown",
   "id": "a0b64e40",
   "metadata": {},
   "source": [
    "Ans:The program executed with error"
   ]
  },
  {
   "cell_type": "markdown",
   "id": "59d81a5e",
   "metadata": {},
   "source": [
    "------------"
   ]
  },
  {
   "cell_type": "markdown",
   "id": "b706362e",
   "metadata": {},
   "source": [
    "15. Which operator has higher precedence in the following list\n",
    "- % (Modulus)\n",
    "-  & (BitWise AND)\n",
    "-  ** (Exponent)\n",
    "- '>'(Comparison)"
   ]
  },
  {
   "cell_type": "markdown",
   "id": "d5349982",
   "metadata": {},
   "source": [
    "Ans:** (Exponent)"
   ]
  },
  {
   "cell_type": "markdown",
   "id": "9fd6a533",
   "metadata": {},
   "source": [
    "------------"
   ]
  },
  {
   "cell_type": "markdown",
   "id": "e3ee538c",
   "metadata": {},
   "source": [
    "16.What is the output of the following code?"
   ]
  },
  {
   "cell_type": "code",
   "execution_count": 19,
   "id": "dd6625e3",
   "metadata": {},
   "outputs": [
    {
     "ename": "TypeError",
     "evalue": "list.append() takes exactly one argument (2 given)",
     "output_type": "error",
     "traceback": [
      "\u001b[1;31m---------------------------------------------------------------------------\u001b[0m",
      "\u001b[1;31mTypeError\u001b[0m                                 Traceback (most recent call last)",
      "Cell \u001b[1;32mIn[19], line 2\u001b[0m\n\u001b[0;32m      1\u001b[0m sampleList \u001b[38;5;241m=\u001b[39m [\u001b[38;5;124m\"\u001b[39m\u001b[38;5;124mJon\u001b[39m\u001b[38;5;124m\"\u001b[39m, \u001b[38;5;124m\"\u001b[39m\u001b[38;5;124mKelly\u001b[39m\u001b[38;5;124m\"\u001b[39m, \u001b[38;5;124m\"\u001b[39m\u001b[38;5;124mJessa\u001b[39m\u001b[38;5;124m\"\u001b[39m]\n\u001b[1;32m----> 2\u001b[0m sampleList\u001b[38;5;241m.\u001b[39mappend(\u001b[38;5;241m2\u001b[39m, \u001b[38;5;124m\"\u001b[39m\u001b[38;5;124mScott\u001b[39m\u001b[38;5;124m\"\u001b[39m)\n\u001b[0;32m      3\u001b[0m \u001b[38;5;28mprint\u001b[39m(sampleList)\n",
      "\u001b[1;31mTypeError\u001b[0m: list.append() takes exactly one argument (2 given)"
     ]
    }
   ],
   "source": [
    "sampleList = [\"Jon\", \"Kelly\", \"Jessa\"]\n",
    "sampleList.append(2, \"Scott\")\n",
    "print(sampleList)"
   ]
  },
  {
   "cell_type": "markdown",
   "id": "e1132055",
   "metadata": {},
   "source": [
    "Ans: The program executed with errors"
   ]
  },
  {
   "cell_type": "markdown",
   "id": "504e9dd0",
   "metadata": {},
   "source": [
    "------------"
   ]
  },
  {
   "cell_type": "markdown",
   "id": "92d3895e",
   "metadata": {},
   "source": [
    "17. What is the output of the following code?"
   ]
  },
  {
   "cell_type": "code",
   "execution_count": 20,
   "id": "345ac163",
   "metadata": {},
   "outputs": [
    {
     "name": "stdout",
     "output_type": "stream",
     "text": [
      "yn\n"
     ]
    }
   ],
   "source": [
    "str = \"pynative\"\n",
    "print (str[1:3])"
   ]
  },
  {
   "cell_type": "markdown",
   "id": "ac8cc20f",
   "metadata": {},
   "source": [
    "------------"
   ]
  },
  {
   "cell_type": "markdown",
   "id": "1e257490",
   "metadata": {},
   "source": [
    "18. What is the output of the following code?"
   ]
  },
  {
   "cell_type": "code",
   "execution_count": 21,
   "id": "1bdf96e8",
   "metadata": {},
   "outputs": [
    {
     "name": "stdout",
     "output_type": "stream",
     "text": [
      "True\n",
      "False\n"
     ]
    }
   ],
   "source": [
    "listOne = [20, 40, 60, 80]\n",
    "listTwo = [20, 40, 60, 80]\n",
    "\n",
    "print(listOne == listTwo)\n",
    "print(listOne is listTwo)"
   ]
  },
  {
   "cell_type": "code",
   "execution_count": 22,
   "id": "5a8dc5e0",
   "metadata": {},
   "outputs": [
    {
     "name": "stdout",
     "output_type": "stream",
     "text": [
      "True\n",
      "True\n"
     ]
    }
   ],
   "source": [
    "listOne = 10\n",
    "listTwo = 10\n",
    "\n",
    "print(listOne == listTwo)\n",
    "print(listOne is listTwo)"
   ]
  },
  {
   "cell_type": "markdown",
   "id": "55a03ea5",
   "metadata": {},
   "source": [
    "# Coding Questions:\n"
   ]
  },
  {
   "cell_type": "markdown",
   "id": "e96ca4e8",
   "metadata": {},
   "source": [
    "Exercise 1: Calculate the multiplication and sum of two numbers"
   ]
  },
  {
   "cell_type": "markdown",
   "id": "d6b940cc",
   "metadata": {},
   "source": [
    "Given two integer numbers, write a Python code to return their product only if the product is equal to or lower than 1000. Otherwise, return their sum"
   ]
  },
  {
   "cell_type": "code",
   "execution_count": 8,
   "id": "6fdfb636",
   "metadata": {},
   "outputs": [
    {
     "name": "stdout",
     "output_type": "stream",
     "text": [
      "20\n",
      "45\n",
      "the result is:  900\n"
     ]
    }
   ],
   "source": [
    "a=int(input())\n",
    "b=int(input())\n",
    "\n",
    "def SumOrProd(a,b):\n",
    "    Sum=a+b\n",
    "    Prod=a*b\n",
    "    \n",
    "    if Prod<=1000:\n",
    "        return Prod\n",
    "    else:\n",
    "        return Sum\n",
    "    \n",
    "print('the result is: ',SumOrProd(a,b))"
   ]
  },
  {
   "cell_type": "markdown",
   "id": "6483c448",
   "metadata": {},
   "source": [
    "-----"
   ]
  },
  {
   "cell_type": "markdown",
   "id": "d9bfa601",
   "metadata": {},
   "source": [
    "Exercise 2: Print the Sum of a Current Number and a Previous number"
   ]
  },
  {
   "cell_type": "markdown",
   "id": "a474d5ca",
   "metadata": {},
   "source": [
    "Write a Python code to iterate the first 10 numbers, and in each iteration, print the sum of the current and previous number."
   ]
  },
  {
   "cell_type": "code",
   "execution_count": 5,
   "id": "7f5b11d9",
   "metadata": {},
   "outputs": [
    {
     "name": "stdout",
     "output_type": "stream",
     "text": [
      "current number  0  previous number  0  sum  0\n",
      "current number  1  previous number  0  sum  1\n",
      "current number  2  previous number  1  sum  3\n",
      "current number  3  previous number  2  sum  5\n",
      "current number  4  previous number  3  sum  7\n",
      "current number  5  previous number  4  sum  9\n",
      "current number  6  previous number  5  sum  11\n",
      "current number  7  previous number  6  sum  13\n",
      "current number  8  previous number  7  sum  15\n",
      "current number  9  previous number  8  sum  17\n"
     ]
    }
   ],
   "source": [
    "prev_no=0\n",
    "for i in range(0,10):\n",
    "    print('current number ',i,' previous number ',prev_no, ' sum ',i+prev_no )\n",
    "    prev_no=i"
   ]
  },
  {
   "cell_type": "markdown",
   "id": "070f07eb",
   "metadata": {},
   "source": [
    "----"
   ]
  },
  {
   "cell_type": "markdown",
   "id": "ed2ec194",
   "metadata": {},
   "source": [
    "Exercise 3: Print characters present at an even index number\n",
    "\n",
    "Write a Python code to accept a string from the user and display characters present at an even index number.\n",
    "\n",
    "For example, str = \"PYnative\". so your code should display ‘P’, ‘n’, ‘t’, ‘v’."
   ]
  },
  {
   "cell_type": "code",
   "execution_count": 8,
   "id": "0ec19f37",
   "metadata": {},
   "outputs": [
    {
     "name": "stdout",
     "output_type": "stream",
     "text": [
      "gouri\n",
      "g\n",
      "u\n",
      "i\n"
     ]
    }
   ],
   "source": [
    "str1=input()\n",
    "\n",
    "for i in range(len(str1)):\n",
    "    if i%2==0:\n",
    "        print(str1[i])\n",
    "        "
   ]
  },
  {
   "cell_type": "markdown",
   "id": "26bc66ff",
   "metadata": {},
   "source": [
    "-----"
   ]
  },
  {
   "cell_type": "markdown",
   "id": "e690e8fa",
   "metadata": {},
   "source": [
    "Exercise 4: Remove first n characters from a string\n",
    "\n",
    "Write a Python code to remove characters from a string from 0 to n and return a new string."
   ]
  },
  {
   "cell_type": "markdown",
   "id": "e3d1e656",
   "metadata": {},
   "source": [
    "remove_chars(\"PYnative\", 4) so output must be tive. Here, you need to remove the first four characters from a string."
   ]
  },
  {
   "cell_type": "code",
   "execution_count": 12,
   "id": "2e51c982",
   "metadata": {},
   "outputs": [
    {
     "name": "stdout",
     "output_type": "stream",
     "text": [
      "PYnative\n",
      "4\n",
      "tive\n"
     ]
    }
   ],
   "source": [
    "str1=input()\n",
    "key=int(input())\n",
    "\n",
    "print(str1[key:])"
   ]
  },
  {
   "cell_type": "markdown",
   "id": "73706dd2",
   "metadata": {},
   "source": [
    "-----"
   ]
  },
  {
   "cell_type": "markdown",
   "id": "cb52ce1a",
   "metadata": {},
   "source": [
    "Exercise 5: Check if the first and last numbers of a list are the same\n",
    "\n",
    "Write a code to return True if the list’s first and last numbers are the same. If the numbers are different, return False."
   ]
  },
  {
   "cell_type": "code",
   "execution_count": 19,
   "id": "6a4ec5b0",
   "metadata": {},
   "outputs": [
    {
     "name": "stdout",
     "output_type": "stream",
     "text": [
      "2,3,5,7,8,2,6\n",
      "[2, 3, 5, 7, 8, 2, 6]\n",
      "False\n"
     ]
    }
   ],
   "source": [
    "import ast\n",
    "lst=ast.literal_eval(input())\n",
    "lst=list(lst)\n",
    "print(lst)\n",
    "\n",
    "def same_first_last(lst):\n",
    "    \n",
    "    if lst[0]==lst[-1]:\n",
    "        return True\n",
    "    else:\n",
    "        return False\n",
    "print(same_first_last(lst))"
   ]
  },
  {
   "cell_type": "markdown",
   "id": "d3e55b56",
   "metadata": {},
   "source": [
    "-----"
   ]
  },
  {
   "cell_type": "markdown",
   "id": "898a66af",
   "metadata": {},
   "source": [
    "Exercise 6: Display numbers divisible by 5\n",
    "\n",
    "Write a Python code to display numbers from a list divisible by 5"
   ]
  },
  {
   "cell_type": "code",
   "execution_count": 20,
   "id": "e105a0d2",
   "metadata": {},
   "outputs": [
    {
     "name": "stdout",
     "output_type": "stream",
     "text": [
      "10\n",
      "20\n",
      "55\n"
     ]
    }
   ],
   "source": [
    "lst=[10, 20, 33, 46, 55]\n",
    "for i in lst:\n",
    "    if i%5==0:\n",
    "        print(i)\n",
    "        "
   ]
  },
  {
   "cell_type": "markdown",
   "id": "e46a9a0e",
   "metadata": {},
   "source": [
    "-----"
   ]
  },
  {
   "cell_type": "markdown",
   "id": "13993751",
   "metadata": {},
   "source": [
    "Exercise 7: Find the number of occurrences of a substring in a string\n",
    "\n",
    "Write a Python code to find how often the substring “Emma” appears in the given string."
   ]
  },
  {
   "cell_type": "code",
   "execution_count": 22,
   "id": "7d88f83a",
   "metadata": {},
   "outputs": [
    {
     "name": "stdout",
     "output_type": "stream",
     "text": [
      "2\n"
     ]
    }
   ],
   "source": [
    "str_x = \"Emma is good developer. Emma is a writer\"\n",
    "x=str_x.count('Emma')\n",
    "print(x)"
   ]
  },
  {
   "cell_type": "markdown",
   "id": "52290da0",
   "metadata": {},
   "source": [
    "-----"
   ]
  },
  {
   "cell_type": "markdown",
   "id": "1e797fcd",
   "metadata": {},
   "source": [
    "Exercise 8: Print the following pattern\n",
    "\n",
    "1 \n",
    "\n",
    "2 2 \n",
    "\n",
    "3 3 3 \n",
    "\n",
    "4 4 4 4 \n",
    "\n",
    "5 5 5 5 5"
   ]
  },
  {
   "cell_type": "code",
   "execution_count": 29,
   "id": "22e42360",
   "metadata": {},
   "outputs": [
    {
     "name": "stdout",
     "output_type": "stream",
     "text": [
      "1 \n",
      "\n",
      "2 2 \n",
      "\n",
      "3 3 3 \n",
      "\n",
      "4 4 4 4 \n",
      "\n",
      "5 5 5 5 5 \n",
      "\n"
     ]
    }
   ],
   "source": [
    "for i in range(1,6):\n",
    "    for j in range(i):\n",
    "        print(i,end=\" \")\n",
    "    print('\\n')"
   ]
  },
  {
   "cell_type": "markdown",
   "id": "41a35d64",
   "metadata": {},
   "source": [
    "-----"
   ]
  },
  {
   "cell_type": "markdown",
   "id": "8bcbf53a",
   "metadata": {},
   "source": [
    "Exercise 9: Check Palindrome Number\n",
    "\n",
    "Write a Python code to check if the given number is palindrome. A palindrome number is a number that is the same after reverse. For example, 545 is the palindrome number."
   ]
  },
  {
   "cell_type": "code",
   "execution_count": 33,
   "id": "0925c45f",
   "metadata": {},
   "outputs": [
    {
     "name": "stdout",
     "output_type": "stream",
     "text": [
      "521\n",
      "original Number is  521\n",
      "No. given number is not palindrome number\n"
     ]
    }
   ],
   "source": [
    "no=input()\n",
    "print(\"original Number is \",no)\n",
    "no1=no[::-1]\n",
    "\n",
    "if no1==no:\n",
    "    print('Yes. given number is palindrome number')\n",
    "else:\n",
    "    print('No. given number is not palindrome number')\n"
   ]
  },
  {
   "cell_type": "markdown",
   "id": "24d79d49",
   "metadata": {},
   "source": [
    "-----"
   ]
  },
  {
   "cell_type": "markdown",
   "id": "3d6dc2b4",
   "metadata": {},
   "source": [
    "Exercise 10: Merge two lists using the following condition\n",
    "\n",
    "Given two lists of numbers, write a Python code to create a new list such that the latest list should contain odd numbers from the first list and even numbers from the second list."
   ]
  },
  {
   "cell_type": "code",
   "execution_count": 34,
   "id": "e083077c",
   "metadata": {},
   "outputs": [
    {
     "name": "stdout",
     "output_type": "stream",
     "text": [
      "[25, 35, 40, 60, 90]\n"
     ]
    }
   ],
   "source": [
    "list1 = [10, 20, 25, 30, 35]\n",
    "list2 = [40, 45, 60, 75, 90]\n",
    "list3=[]\n",
    "for i in list1:\n",
    "    if i%2!=0:\n",
    "        list3.append(i)\n",
    "        \n",
    "for i in list2:\n",
    "    if i%2==0:\n",
    "        list3.append(i)   \n",
    "        \n",
    "print(list3)"
   ]
  },
  {
   "cell_type": "markdown",
   "id": "5ee3baf9",
   "metadata": {},
   "source": [
    "-----"
   ]
  },
  {
   "cell_type": "markdown",
   "id": "1510f6b9",
   "metadata": {},
   "source": [
    "Exercise 11: Get each digit from a number in the reverse order.\n",
    "    \n",
    "For example, If the given integer number is 7536, the output shall be “6 3 5 7“, with a space separating the digits."
   ]
  },
  {
   "cell_type": "code",
   "execution_count": 2,
   "id": "a0823f91",
   "metadata": {},
   "outputs": [
    {
     "name": "stdout",
     "output_type": "stream",
     "text": [
      "1234\n",
      "4 3 2 1 "
     ]
    }
   ],
   "source": [
    "a=input()\n",
    "b=a[::-1]\n",
    "for i in b:\n",
    "    print(i, end=\" \")"
   ]
  },
  {
   "cell_type": "code",
   "execution_count": 8,
   "id": "1f2ea44a",
   "metadata": {},
   "outputs": [
    {
     "name": "stdout",
     "output_type": "stream",
     "text": [
      "1234\n",
      "4 3 2 1 "
     ]
    }
   ],
   "source": [
    "a=int(input())\n",
    "rev_no=0\n",
    "while a!=0:\n",
    "    r=a%10\n",
    "    rev_no=rev_no*10+r\n",
    "    a=a//10\n",
    "    print(r,end=\" \")"
   ]
  },
  {
   "cell_type": "markdown",
   "id": "4b081e02",
   "metadata": {},
   "source": [
    "-----"
   ]
  },
  {
   "cell_type": "markdown",
   "id": "9c84b351",
   "metadata": {},
   "source": [
    "Exercise 12: Calculate income tax\n",
    "\n",
    "Calculate income tax for the given income by adhering to the rules below\n",
    "\n",
    "Taxable Income\tRate (in %)\n",
    "\n",
    "First $10,000\t0\n",
    "\n",
    "Next $10,000\t10\n",
    "\n",
    "The remaining\t20\n",
    "\n",
    "Expected Output:\n",
    "\n",
    "For example, suppose the income is 45000, and the income tax payable is\n",
    "\n",
    "10000*0% + 10000*10%  + 25000*20% = $6000."
   ]
  },
  {
   "cell_type": "code",
   "execution_count": 10,
   "id": "610b90b7",
   "metadata": {},
   "outputs": [
    {
     "name": "stdout",
     "output_type": "stream",
     "text": [
      "45000\n",
      "6000.0\n"
     ]
    }
   ],
   "source": [
    "income=int(input())\n",
    "tax=(10000*0/100)+(10000*10/100)+((income-20000)*20/100)\n",
    "print(tax)"
   ]
  },
  {
   "cell_type": "markdown",
   "id": "9a71d844",
   "metadata": {},
   "source": [
    "-----"
   ]
  },
  {
   "cell_type": "markdown",
   "id": "b8e13b2c",
   "metadata": {},
   "source": [
    "Exercise 13: Print multiplication table from 1 to 10"
   ]
  },
  {
   "cell_type": "code",
   "execution_count": 9,
   "id": "354aaa36",
   "metadata": {},
   "outputs": [
    {
     "name": "stdout",
     "output_type": "stream",
     "text": [
      "1 2 3 4 5 6 7 8 9 10 \n",
      "\n",
      "2 4 6 8 10 12 14 16 18 20 \n",
      "\n",
      "3 6 9 12 15 18 21 24 27 30 \n",
      "\n",
      "4 8 12 16 20 24 28 32 36 40 \n",
      "\n",
      "5 10 15 20 25 30 35 40 45 50 \n",
      "\n",
      "6 12 18 24 30 36 42 48 54 60 \n",
      "\n",
      "7 14 21 28 35 42 49 56 63 70 \n",
      "\n",
      "8 16 24 32 40 48 56 64 72 80 \n",
      "\n",
      "9 18 27 36 45 54 63 72 81 90 \n",
      "\n",
      "10 20 30 40 50 60 70 80 90 100 \n",
      "\n"
     ]
    }
   ],
   "source": [
    "for i in range(1,11):\n",
    "    for j in range(1,11):\n",
    "        print(i*j, end=\" \")\n",
    "    print(\"\\n\")"
   ]
  },
  {
   "cell_type": "markdown",
   "id": "59958c66",
   "metadata": {},
   "source": [
    "-----"
   ]
  },
  {
   "cell_type": "markdown",
   "id": "2398ce89",
   "metadata": {},
   "source": [
    "Exercise 14: Print a downward half-pyramid pattern of stars\n"
   ]
  },
  {
   "cell_type": "code",
   "execution_count": null,
   "id": "fdc08e4f",
   "metadata": {},
   "outputs": [],
   "source": [
    "* * * * *  \n",
    "* * * *  \n",
    "* * *  \n",
    "* *  \n",
    "*"
   ]
  },
  {
   "cell_type": "code",
   "execution_count": 22,
   "id": "3fd0001f",
   "metadata": {},
   "outputs": [
    {
     "name": "stdout",
     "output_type": "stream",
     "text": [
      "* * * * *  \n",
      "* * * *  \n",
      "* * *  \n",
      "* *  \n",
      "*  \n"
     ]
    }
   ],
   "source": [
    "for i in range(5,0,-1):\n",
    "    for j in range(i):\n",
    "        print(\"*\",end=\" \")\n",
    "    print(' ')\n",
    "    \n"
   ]
  },
  {
   "cell_type": "markdown",
   "id": "969d3c92",
   "metadata": {},
   "source": [
    "-----"
   ]
  },
  {
   "cell_type": "markdown",
   "id": "f6217278",
   "metadata": {},
   "source": [
    "Exercise 15: Get an int value of base raises to the power of exponent\n",
    "    \n",
    "Write a function called exponent(base, exp) that returns an int value of base raises to the power of exp.\n",
    "\n",
    "Note here exp is a non-negative integer, and the base is an integer.\n",
    "\n",
    "Expected output\n",
    "\n",
    "Case 1:\n",
    "\n",
    "base = 2\n",
    "\n",
    "exponent = 5\n",
    "\n",
    "2 raises to the power of 5: 32 i.e. (2 *2 * 2 *2 *2 = 32)\n",
    "    \n",
    "Case 2:\n",
    "\n",
    "base = 5\n",
    "\n",
    "exponent = 4\n",
    "\n",
    "5 raises to the power of 4 is: 625 \n",
    "    \n",
    "    \n",
    "i.e. (5 *5 * 5 *5 = 625)"
   ]
  },
  {
   "cell_type": "code",
   "execution_count": 33,
   "id": "032a718a",
   "metadata": {},
   "outputs": [
    {
     "name": "stdout",
     "output_type": "stream",
     "text": [
      "Enter base value :5\n",
      "Enter exponent value :4\n",
      "625\n"
     ]
    }
   ],
   "source": [
    "base=int(input('Enter base value :'))\n",
    "exp=int(input('Enter exponent value :'))\n",
    "res=base\n",
    "for i in range(1,exp):\n",
    "    res=res*base\n",
    "\n",
    "print(res)"
   ]
  }
 ],
 "metadata": {
  "kernelspec": {
   "display_name": "Python 3 (ipykernel)",
   "language": "python",
   "name": "python3"
  },
  "language_info": {
   "codemirror_mode": {
    "name": "ipython",
    "version": 3
   },
   "file_extension": ".py",
   "mimetype": "text/x-python",
   "name": "python",
   "nbconvert_exporter": "python",
   "pygments_lexer": "ipython3",
   "version": "3.11.7"
  }
 },
 "nbformat": 4,
 "nbformat_minor": 5
}
